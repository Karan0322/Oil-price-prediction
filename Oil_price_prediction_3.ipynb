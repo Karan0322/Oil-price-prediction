{
  "nbformat": 4,
  "nbformat_minor": 0,
  "metadata": {
    "colab": {
      "name": "Oil_price prediction_3.ipynb",
      "provenance": [],
      "collapsed_sections": [],
      "authorship_tag": "ABX9TyNLUQ7qvXiNVOUeOu8KnMlN",
      "include_colab_link": true
    },
    "kernelspec": {
      "name": "python3",
      "display_name": "Python 3"
    },
    "language_info": {
      "name": "python"
    }
  },
  "cells": [
    {
      "cell_type": "markdown",
      "metadata": {
        "id": "view-in-github",
        "colab_type": "text"
      },
      "source": [
        "<a href=\"https://colab.research.google.com/github/Karan0322/Oil-price-prediction/blob/main/Oil_price_prediction_3.ipynb\" target=\"_parent\"><img src=\"https://colab.research.google.com/assets/colab-badge.svg\" alt=\"Open In Colab\"/></a>"
      ]
    },
    {
      "cell_type": "code",
      "metadata": {
        "id": "4gVRN-2ZZb9D",
        "colab": {
          "base_uri": "https://localhost:8080/"
        },
        "outputId": "31bee9ab-05ad-478c-d258-db7540473557"
      },
      "source": [
        "import numpy as np\n",
        "import pandas as pd\n",
        "import matplotlib.pyplot as plt\n",
        "import seaborn as sns\n",
        "import statsmodels.api as sm\n",
        "%matplotlib inline\n",
        "sns.set()\n",
        "import pickle\n",
        "from sklearn.linear_model import LinearRegression\n",
        "from sklearn.model_selection import train_test_split"
      ],
      "execution_count": null,
      "outputs": [
        {
          "output_type": "stream",
          "name": "stderr",
          "text": [
            "/usr/local/lib/python3.7/dist-packages/statsmodels/tools/_testing.py:19: FutureWarning: pandas.util.testing is deprecated. Use the functions in the public API at pandas.testing instead.\n",
            "  import pandas.util.testing as tm\n"
          ]
        }
      ]
    },
    {
      "cell_type": "markdown",
      "metadata": {
        "id": "3iq8DkNDaMXS"
      },
      "source": [
        "Import the File "
      ]
    },
    {
      "cell_type": "code",
      "metadata": {
        "id": "NZjg-0ciaL6E"
      },
      "source": [
        "df=pd.read_csv(\"Crude_All.csv\")"
      ],
      "execution_count": null,
      "outputs": []
    },
    {
      "cell_type": "code",
      "metadata": {
        "colab": {
          "base_uri": "https://localhost:8080/",
          "height": 418
        },
        "id": "7AmLkA0yadte",
        "outputId": "55a76c61-cf78-494a-f9ea-571896afce34"
      },
      "source": [
        "df"
      ],
      "execution_count": null,
      "outputs": [
        {
          "output_type": "execute_result",
          "data": {
            "text/html": [
              "<div>\n",
              "<style scoped>\n",
              "    .dataframe tbody tr th:only-of-type {\n",
              "        vertical-align: middle;\n",
              "    }\n",
              "\n",
              "    .dataframe tbody tr th {\n",
              "        vertical-align: top;\n",
              "    }\n",
              "\n",
              "    .dataframe thead th {\n",
              "        text-align: right;\n",
              "    }\n",
              "</style>\n",
              "<table border=\"1\" class=\"dataframe\">\n",
              "  <thead>\n",
              "    <tr style=\"text-align: right;\">\n",
              "      <th></th>\n",
              "      <th>Date</th>\n",
              "      <th>Open</th>\n",
              "      <th>High</th>\n",
              "      <th>Low</th>\n",
              "      <th>Close</th>\n",
              "      <th>Adj Close</th>\n",
              "      <th>Volume</th>\n",
              "    </tr>\n",
              "  </thead>\n",
              "  <tbody>\n",
              "    <tr>\n",
              "      <th>0</th>\n",
              "      <td>8/23/2000</td>\n",
              "      <td>31.950001</td>\n",
              "      <td>32.799999</td>\n",
              "      <td>31.950001</td>\n",
              "      <td>32.049999</td>\n",
              "      <td>32.049999</td>\n",
              "      <td>79385.0</td>\n",
              "    </tr>\n",
              "    <tr>\n",
              "      <th>1</th>\n",
              "      <td>8/24/2000</td>\n",
              "      <td>31.900000</td>\n",
              "      <td>32.240002</td>\n",
              "      <td>31.400000</td>\n",
              "      <td>31.629999</td>\n",
              "      <td>31.629999</td>\n",
              "      <td>72978.0</td>\n",
              "    </tr>\n",
              "    <tr>\n",
              "      <th>2</th>\n",
              "      <td>8/25/2000</td>\n",
              "      <td>31.700001</td>\n",
              "      <td>32.099998</td>\n",
              "      <td>31.320000</td>\n",
              "      <td>32.049999</td>\n",
              "      <td>32.049999</td>\n",
              "      <td>44601.0</td>\n",
              "    </tr>\n",
              "    <tr>\n",
              "      <th>3</th>\n",
              "      <td>8/28/2000</td>\n",
              "      <td>32.040001</td>\n",
              "      <td>32.919998</td>\n",
              "      <td>31.860001</td>\n",
              "      <td>32.869999</td>\n",
              "      <td>32.869999</td>\n",
              "      <td>46770.0</td>\n",
              "    </tr>\n",
              "    <tr>\n",
              "      <th>4</th>\n",
              "      <td>8/29/2000</td>\n",
              "      <td>32.820000</td>\n",
              "      <td>33.029999</td>\n",
              "      <td>32.560001</td>\n",
              "      <td>32.720001</td>\n",
              "      <td>32.720001</td>\n",
              "      <td>49131.0</td>\n",
              "    </tr>\n",
              "    <tr>\n",
              "      <th>...</th>\n",
              "      <td>...</td>\n",
              "      <td>...</td>\n",
              "      <td>...</td>\n",
              "      <td>...</td>\n",
              "      <td>...</td>\n",
              "      <td>...</td>\n",
              "      <td>...</td>\n",
              "    </tr>\n",
              "    <tr>\n",
              "      <th>5312</th>\n",
              "      <td>7/2/2021</td>\n",
              "      <td>75.019997</td>\n",
              "      <td>75.620003</td>\n",
              "      <td>74.410004</td>\n",
              "      <td>75.160004</td>\n",
              "      <td>75.160004</td>\n",
              "      <td>377531.0</td>\n",
              "    </tr>\n",
              "    <tr>\n",
              "      <th>5313</th>\n",
              "      <td>7/6/2021</td>\n",
              "      <td>75.349998</td>\n",
              "      <td>76.980003</td>\n",
              "      <td>72.940002</td>\n",
              "      <td>73.370003</td>\n",
              "      <td>73.370003</td>\n",
              "      <td>714044.0</td>\n",
              "    </tr>\n",
              "    <tr>\n",
              "      <th>5314</th>\n",
              "      <td>7/7/2021</td>\n",
              "      <td>73.849998</td>\n",
              "      <td>74.860001</td>\n",
              "      <td>71.070000</td>\n",
              "      <td>72.199997</td>\n",
              "      <td>72.199997</td>\n",
              "      <td>607971.0</td>\n",
              "    </tr>\n",
              "    <tr>\n",
              "      <th>5315</th>\n",
              "      <td>7/8/2021</td>\n",
              "      <td>72.169998</td>\n",
              "      <td>73.260002</td>\n",
              "      <td>70.760002</td>\n",
              "      <td>72.940002</td>\n",
              "      <td>72.940002</td>\n",
              "      <td>529690.0</td>\n",
              "    </tr>\n",
              "    <tr>\n",
              "      <th>5316</th>\n",
              "      <td>7/9/2021</td>\n",
              "      <td>73.260002</td>\n",
              "      <td>74.760002</td>\n",
              "      <td>72.720001</td>\n",
              "      <td>74.559998</td>\n",
              "      <td>74.559998</td>\n",
              "      <td>529690.0</td>\n",
              "    </tr>\n",
              "  </tbody>\n",
              "</table>\n",
              "<p>5317 rows × 7 columns</p>\n",
              "</div>"
            ],
            "text/plain": [
              "           Date       Open       High  ...      Close  Adj Close    Volume\n",
              "0     8/23/2000  31.950001  32.799999  ...  32.049999  32.049999   79385.0\n",
              "1     8/24/2000  31.900000  32.240002  ...  31.629999  31.629999   72978.0\n",
              "2     8/25/2000  31.700001  32.099998  ...  32.049999  32.049999   44601.0\n",
              "3     8/28/2000  32.040001  32.919998  ...  32.869999  32.869999   46770.0\n",
              "4     8/29/2000  32.820000  33.029999  ...  32.720001  32.720001   49131.0\n",
              "...         ...        ...        ...  ...        ...        ...       ...\n",
              "5312   7/2/2021  75.019997  75.620003  ...  75.160004  75.160004  377531.0\n",
              "5313   7/6/2021  75.349998  76.980003  ...  73.370003  73.370003  714044.0\n",
              "5314   7/7/2021  73.849998  74.860001  ...  72.199997  72.199997  607971.0\n",
              "5315   7/8/2021  72.169998  73.260002  ...  72.940002  72.940002  529690.0\n",
              "5316   7/9/2021  73.260002  74.760002  ...  74.559998  74.559998  529690.0\n",
              "\n",
              "[5317 rows x 7 columns]"
            ]
          },
          "metadata": {},
          "execution_count": 3
        }
      ]
    },
    {
      "cell_type": "code",
      "metadata": {
        "id": "u4R4FyNYagqQ"
      },
      "source": [
        "df=pd.read_csv(\"Crude_All.csv\")"
      ],
      "execution_count": null,
      "outputs": []
    },
    {
      "cell_type": "code",
      "metadata": {
        "colab": {
          "base_uri": "https://localhost:8080/",
          "height": 204
        },
        "id": "AaDl8ybIaizv",
        "outputId": "76f41c89-5dbb-480f-ee2c-76c7b5c8dcde"
      },
      "source": [
        "df.head()"
      ],
      "execution_count": null,
      "outputs": [
        {
          "output_type": "execute_result",
          "data": {
            "text/html": [
              "<div>\n",
              "<style scoped>\n",
              "    .dataframe tbody tr th:only-of-type {\n",
              "        vertical-align: middle;\n",
              "    }\n",
              "\n",
              "    .dataframe tbody tr th {\n",
              "        vertical-align: top;\n",
              "    }\n",
              "\n",
              "    .dataframe thead th {\n",
              "        text-align: right;\n",
              "    }\n",
              "</style>\n",
              "<table border=\"1\" class=\"dataframe\">\n",
              "  <thead>\n",
              "    <tr style=\"text-align: right;\">\n",
              "      <th></th>\n",
              "      <th>Date</th>\n",
              "      <th>Open</th>\n",
              "      <th>High</th>\n",
              "      <th>Low</th>\n",
              "      <th>Close</th>\n",
              "      <th>Adj Close</th>\n",
              "      <th>Volume</th>\n",
              "    </tr>\n",
              "  </thead>\n",
              "  <tbody>\n",
              "    <tr>\n",
              "      <th>0</th>\n",
              "      <td>8/23/2000</td>\n",
              "      <td>31.950001</td>\n",
              "      <td>32.799999</td>\n",
              "      <td>31.950001</td>\n",
              "      <td>32.049999</td>\n",
              "      <td>32.049999</td>\n",
              "      <td>79385.0</td>\n",
              "    </tr>\n",
              "    <tr>\n",
              "      <th>1</th>\n",
              "      <td>8/24/2000</td>\n",
              "      <td>31.900000</td>\n",
              "      <td>32.240002</td>\n",
              "      <td>31.400000</td>\n",
              "      <td>31.629999</td>\n",
              "      <td>31.629999</td>\n",
              "      <td>72978.0</td>\n",
              "    </tr>\n",
              "    <tr>\n",
              "      <th>2</th>\n",
              "      <td>8/25/2000</td>\n",
              "      <td>31.700001</td>\n",
              "      <td>32.099998</td>\n",
              "      <td>31.320000</td>\n",
              "      <td>32.049999</td>\n",
              "      <td>32.049999</td>\n",
              "      <td>44601.0</td>\n",
              "    </tr>\n",
              "    <tr>\n",
              "      <th>3</th>\n",
              "      <td>8/28/2000</td>\n",
              "      <td>32.040001</td>\n",
              "      <td>32.919998</td>\n",
              "      <td>31.860001</td>\n",
              "      <td>32.869999</td>\n",
              "      <td>32.869999</td>\n",
              "      <td>46770.0</td>\n",
              "    </tr>\n",
              "    <tr>\n",
              "      <th>4</th>\n",
              "      <td>8/29/2000</td>\n",
              "      <td>32.820000</td>\n",
              "      <td>33.029999</td>\n",
              "      <td>32.560001</td>\n",
              "      <td>32.720001</td>\n",
              "      <td>32.720001</td>\n",
              "      <td>49131.0</td>\n",
              "    </tr>\n",
              "  </tbody>\n",
              "</table>\n",
              "</div>"
            ],
            "text/plain": [
              "        Date       Open       High        Low      Close  Adj Close   Volume\n",
              "0  8/23/2000  31.950001  32.799999  31.950001  32.049999  32.049999  79385.0\n",
              "1  8/24/2000  31.900000  32.240002  31.400000  31.629999  31.629999  72978.0\n",
              "2  8/25/2000  31.700001  32.099998  31.320000  32.049999  32.049999  44601.0\n",
              "3  8/28/2000  32.040001  32.919998  31.860001  32.869999  32.869999  46770.0\n",
              "4  8/29/2000  32.820000  33.029999  32.560001  32.720001  32.720001  49131.0"
            ]
          },
          "metadata": {},
          "execution_count": 5
        }
      ]
    },
    {
      "cell_type": "code",
      "metadata": {
        "colab": {
          "base_uri": "https://localhost:8080/"
        },
        "id": "R0nN-olpcDOc",
        "outputId": "04c2a56c-533f-487d-e3dc-78817fc2428c"
      },
      "source": [
        "df.shape"
      ],
      "execution_count": null,
      "outputs": [
        {
          "output_type": "execute_result",
          "data": {
            "text/plain": [
              "(5317, 7)"
            ]
          },
          "metadata": {},
          "execution_count": 6
        }
      ]
    },
    {
      "cell_type": "code",
      "metadata": {
        "id": "9MepUMnbal8E"
      },
      "source": [
        "df=df.drop(axis=1,columns='Adj Close')"
      ],
      "execution_count": null,
      "outputs": []
    },
    {
      "cell_type": "code",
      "metadata": {
        "colab": {
          "base_uri": "https://localhost:8080/"
        },
        "id": "JhQEGD-sasAg",
        "outputId": "d6a5f68e-1dbd-4d01-9fd4-12b8d8c89f76"
      },
      "source": [
        "df.info()"
      ],
      "execution_count": null,
      "outputs": [
        {
          "output_type": "stream",
          "name": "stdout",
          "text": [
            "<class 'pandas.core.frame.DataFrame'>\n",
            "RangeIndex: 5317 entries, 0 to 5316\n",
            "Data columns (total 6 columns):\n",
            " #   Column  Non-Null Count  Dtype  \n",
            "---  ------  --------------  -----  \n",
            " 0   Date    5317 non-null   object \n",
            " 1   Open    5210 non-null   float64\n",
            " 2   High    5210 non-null   float64\n",
            " 3   Low     5210 non-null   float64\n",
            " 4   Close   5210 non-null   float64\n",
            " 5   Volume  5210 non-null   float64\n",
            "dtypes: float64(5), object(1)\n",
            "memory usage: 249.4+ KB\n"
          ]
        }
      ]
    },
    {
      "cell_type": "markdown",
      "metadata": {
        "id": "J27ghASVbOzG"
      },
      "source": [
        " Identify and Drop Null Values"
      ]
    },
    {
      "cell_type": "code",
      "metadata": {
        "colab": {
          "base_uri": "https://localhost:8080/"
        },
        "id": "fZwv5QQmbNf9",
        "outputId": "6e8d8a43-29fa-4ff7-c408-7fd48dd42d2e"
      },
      "source": [
        "df.isnull().sum()"
      ],
      "execution_count": null,
      "outputs": [
        {
          "output_type": "execute_result",
          "data": {
            "text/plain": [
              "Date        0\n",
              "Open      107\n",
              "High      107\n",
              "Low       107\n",
              "Close     107\n",
              "Volume    107\n",
              "dtype: int64"
            ]
          },
          "metadata": {},
          "execution_count": 9
        }
      ]
    },
    {
      "cell_type": "code",
      "metadata": {
        "colab": {
          "base_uri": "https://localhost:8080/",
          "height": 418
        },
        "id": "HnexQh0zbaZk",
        "outputId": "76153171-0f2a-4e1e-d174-cb2930f22bf3"
      },
      "source": [
        "df[df['Close'].isnull()]"
      ],
      "execution_count": null,
      "outputs": [
        {
          "output_type": "execute_result",
          "data": {
            "text/html": [
              "<div>\n",
              "<style scoped>\n",
              "    .dataframe tbody tr th:only-of-type {\n",
              "        vertical-align: middle;\n",
              "    }\n",
              "\n",
              "    .dataframe tbody tr th {\n",
              "        vertical-align: top;\n",
              "    }\n",
              "\n",
              "    .dataframe thead th {\n",
              "        text-align: right;\n",
              "    }\n",
              "</style>\n",
              "<table border=\"1\" class=\"dataframe\">\n",
              "  <thead>\n",
              "    <tr style=\"text-align: right;\">\n",
              "      <th></th>\n",
              "      <th>Date</th>\n",
              "      <th>Open</th>\n",
              "      <th>High</th>\n",
              "      <th>Low</th>\n",
              "      <th>Close</th>\n",
              "      <th>Volume</th>\n",
              "    </tr>\n",
              "  </thead>\n",
              "  <tbody>\n",
              "    <tr>\n",
              "      <th>8</th>\n",
              "      <td>9/4/2000</td>\n",
              "      <td>NaN</td>\n",
              "      <td>NaN</td>\n",
              "      <td>NaN</td>\n",
              "      <td>NaN</td>\n",
              "      <td>NaN</td>\n",
              "    </tr>\n",
              "    <tr>\n",
              "      <th>66</th>\n",
              "      <td>11/23/2000</td>\n",
              "      <td>NaN</td>\n",
              "      <td>NaN</td>\n",
              "      <td>NaN</td>\n",
              "      <td>NaN</td>\n",
              "      <td>NaN</td>\n",
              "    </tr>\n",
              "    <tr>\n",
              "      <th>67</th>\n",
              "      <td>11/24/2000</td>\n",
              "      <td>NaN</td>\n",
              "      <td>NaN</td>\n",
              "      <td>NaN</td>\n",
              "      <td>NaN</td>\n",
              "      <td>NaN</td>\n",
              "    </tr>\n",
              "    <tr>\n",
              "      <th>88</th>\n",
              "      <td>12/25/2000</td>\n",
              "      <td>NaN</td>\n",
              "      <td>NaN</td>\n",
              "      <td>NaN</td>\n",
              "      <td>NaN</td>\n",
              "      <td>NaN</td>\n",
              "    </tr>\n",
              "    <tr>\n",
              "      <th>93</th>\n",
              "      <td>1/1/2001</td>\n",
              "      <td>NaN</td>\n",
              "      <td>NaN</td>\n",
              "      <td>NaN</td>\n",
              "      <td>NaN</td>\n",
              "      <td>NaN</td>\n",
              "    </tr>\n",
              "    <tr>\n",
              "      <th>...</th>\n",
              "      <td>...</td>\n",
              "      <td>...</td>\n",
              "      <td>...</td>\n",
              "      <td>...</td>\n",
              "      <td>...</td>\n",
              "      <td>...</td>\n",
              "    </tr>\n",
              "    <tr>\n",
              "      <th>4808</th>\n",
              "      <td>7/3/2019</td>\n",
              "      <td>NaN</td>\n",
              "      <td>NaN</td>\n",
              "      <td>NaN</td>\n",
              "      <td>NaN</td>\n",
              "      <td>NaN</td>\n",
              "    </tr>\n",
              "    <tr>\n",
              "      <th>4912</th>\n",
              "      <td>11/29/2019</td>\n",
              "      <td>NaN</td>\n",
              "      <td>NaN</td>\n",
              "      <td>NaN</td>\n",
              "      <td>NaN</td>\n",
              "      <td>NaN</td>\n",
              "    </tr>\n",
              "    <tr>\n",
              "      <th>4929</th>\n",
              "      <td>12/24/2019</td>\n",
              "      <td>NaN</td>\n",
              "      <td>NaN</td>\n",
              "      <td>NaN</td>\n",
              "      <td>NaN</td>\n",
              "      <td>NaN</td>\n",
              "    </tr>\n",
              "    <tr>\n",
              "      <th>5163</th>\n",
              "      <td>11/27/2020</td>\n",
              "      <td>NaN</td>\n",
              "      <td>NaN</td>\n",
              "      <td>NaN</td>\n",
              "      <td>NaN</td>\n",
              "      <td>NaN</td>\n",
              "    </tr>\n",
              "    <tr>\n",
              "      <th>5182</th>\n",
              "      <td>12/24/2020</td>\n",
              "      <td>NaN</td>\n",
              "      <td>NaN</td>\n",
              "      <td>NaN</td>\n",
              "      <td>NaN</td>\n",
              "      <td>NaN</td>\n",
              "    </tr>\n",
              "  </tbody>\n",
              "</table>\n",
              "<p>107 rows × 6 columns</p>\n",
              "</div>"
            ],
            "text/plain": [
              "            Date  Open  High  Low  Close  Volume\n",
              "8       9/4/2000   NaN   NaN  NaN    NaN     NaN\n",
              "66    11/23/2000   NaN   NaN  NaN    NaN     NaN\n",
              "67    11/24/2000   NaN   NaN  NaN    NaN     NaN\n",
              "88    12/25/2000   NaN   NaN  NaN    NaN     NaN\n",
              "93      1/1/2001   NaN   NaN  NaN    NaN     NaN\n",
              "...          ...   ...   ...  ...    ...     ...\n",
              "4808    7/3/2019   NaN   NaN  NaN    NaN     NaN\n",
              "4912  11/29/2019   NaN   NaN  NaN    NaN     NaN\n",
              "4929  12/24/2019   NaN   NaN  NaN    NaN     NaN\n",
              "5163  11/27/2020   NaN   NaN  NaN    NaN     NaN\n",
              "5182  12/24/2020   NaN   NaN  NaN    NaN     NaN\n",
              "\n",
              "[107 rows x 6 columns]"
            ]
          },
          "metadata": {},
          "execution_count": 10
        }
      ]
    },
    {
      "cell_type": "code",
      "metadata": {
        "id": "vRF-mo21b0Rd"
      },
      "source": [
        "df= df.dropna(how='any')#Drop the row contains null value"
      ],
      "execution_count": null,
      "outputs": []
    },
    {
      "cell_type": "code",
      "metadata": {
        "colab": {
          "base_uri": "https://localhost:8080/"
        },
        "id": "uxFriEBncyI2",
        "outputId": "6090918a-a838-4fd8-9d90-6fe5776cff20"
      },
      "source": [
        "df.shape"
      ],
      "execution_count": null,
      "outputs": [
        {
          "output_type": "execute_result",
          "data": {
            "text/plain": [
              "(5210, 6)"
            ]
          },
          "metadata": {},
          "execution_count": 12
        }
      ]
    },
    {
      "cell_type": "code",
      "metadata": {
        "colab": {
          "base_uri": "https://localhost:8080/"
        },
        "id": "HSMxjM3GdL8k",
        "outputId": "3b847d19-2964-4bd2-b10c-139d448a5a63"
      },
      "source": [
        "df.isnull().sum()"
      ],
      "execution_count": null,
      "outputs": [
        {
          "output_type": "execute_result",
          "data": {
            "text/plain": [
              "Date      0\n",
              "Open      0\n",
              "High      0\n",
              "Low       0\n",
              "Close     0\n",
              "Volume    0\n",
              "dtype: int64"
            ]
          },
          "metadata": {},
          "execution_count": 13
        }
      ]
    },
    {
      "cell_type": "markdown",
      "metadata": {
        "id": "zFxE-HDodjz2"
      },
      "source": [
        "Analysis of graph for outlier"
      ]
    },
    {
      "cell_type": "code",
      "metadata": {
        "colab": {
          "base_uri": "https://localhost:8080/",
          "height": 1000
        },
        "id": "Ig70nvu5dPKy",
        "outputId": "7af2fb83-9f6b-4c34-8709-be1e63df946b"
      },
      "source": [
        "plt.figure(figsize=(16,8), dpi= 100, facecolor='w', edgecolor='k')\n",
        "\n",
        "plt.plot(df['Open'], color='red', label = 'Opening Price')\n",
        "plt.plot(df['Close'], color='green', label = 'Closing Price')\n",
        "plt.plot(df['Low'], color='black', label = 'Low Price')\n",
        "plt.plot(df['High'], color='blue', label = 'High Price')\n",
        "plt.legend(loc='best')\n",
        "\n",
        "plt.subplots(2, 2, figsize = (20, 10))\n",
        "\n",
        "ax1 = plt.subplot(2, 2, 1)\n",
        "plt.plot(df['Open'], color='red')\n",
        "plt.xlabel('Date')\n",
        "plt.ylabel('Opening Price')\n",
        "\n",
        "ax2 = plt.subplot(2, 2, 2)\n",
        "plt.plot(df['Close'], color='green')\n",
        "plt.xlabel('Date')\n",
        "plt.ylabel('Closing Price')\n",
        "\n",
        "ax3 = plt.subplot(2, 2, 3)\n",
        "plt.plot(df['Low'], color='black')\n",
        "plt.xlabel('Date')\n",
        "plt.ylabel('Low Price')\n",
        "\n",
        "ax4 = plt.subplot(2, 2, 4)\n",
        "plt.plot(df['High'], color='blue')\n",
        "\n",
        "plt.ylabel('High Price')\n",
        "\n",
        "plt.legend(loc='best')"
      ],
      "execution_count": null,
      "outputs": [
        {
          "output_type": "stream",
          "name": "stderr",
          "text": [
            "No handles with labels found to put in legend.\n"
          ]
        },
        {
          "output_type": "execute_result",
          "data": {
            "text/plain": [
              "<matplotlib.legend.Legend at 0x7f96dec13bd0>"
            ]
          },
          "metadata": {},
          "execution_count": 14
        },
        {
          "output_type": "display_data",
          "data": {
            "image/png": "[encoded data removed]",
            "text/plain": [
              "<Figure size 1600x800 with 1 Axes>"
            ]
          },
          "metadata": {}
        },
        {
          "output_type": "display_data",
          "data": {
            "image/png": "[encoded data removed]",
            "text/plain": [
              "<Figure size 1440x720 with 4 Axes>"
            ]
          },
          "metadata": {
            "needs_background": "light"
          }
        }
      ]
    },
    {
      "cell_type": "code",
      "metadata": {
        "colab": {
          "base_uri": "https://localhost:8080/"
        },
        "id": "iNDbBKJ3hzDQ",
        "outputId": "0cb63fad-8a83-4646-cde4-e108fcf940bf"
      },
      "source": [
        "df['Close'].describe()"
      ],
      "execution_count": null,
      "outputs": [
        {
          "output_type": "execute_result",
          "data": {
            "text/plain": [
              "count    5210.000000\n",
              "mean       61.809263\n",
              "std        25.610364\n",
              "min       -37.630001\n",
              "25%        41.932500\n",
              "50%        58.694999\n",
              "75%        81.234999\n",
              "max       145.179993\n",
              "Name: Close, dtype: float64"
            ]
          },
          "metadata": {},
          "execution_count": 15
        }
      ]
    },
    {
      "cell_type": "code",
      "metadata": {
        "colab": {
          "base_uri": "https://localhost:8080/",
          "height": 285
        },
        "id": "fQFgkREGh-S4",
        "outputId": "3d66823e-c86e-431e-be1b-e1b393d98e32"
      },
      "source": [
        "sns.boxplot(x=df['Close'])\n",
        "plt.show()"
      ],
      "execution_count": null,
      "outputs": [
        {
          "output_type": "display_data",
          "data": {
            "image/png": "[encoded data removed]",
            "text/plain": [
              "<Figure size 432x288 with 1 Axes>"
            ]
          },
          "metadata": {
            "needs_background": "light"
          }
        }
      ]
    },
    {
      "cell_type": "code",
      "metadata": {
        "colab": {
          "base_uri": "https://localhost:8080/",
          "height": 80
        },
        "id": "W7TXMVDcmY5H",
        "outputId": "a30c46ad-85cc-4a3a-b7b1-e96fa990d269"
      },
      "source": [
        "df[df['Close']<0]"
      ],
      "execution_count": null,
      "outputs": [
        {
          "output_type": "execute_result",
          "data": {
            "text/html": [
              "<div>\n",
              "<style scoped>\n",
              "    .dataframe tbody tr th:only-of-type {\n",
              "        vertical-align: middle;\n",
              "    }\n",
              "\n",
              "    .dataframe tbody tr th {\n",
              "        vertical-align: top;\n",
              "    }\n",
              "\n",
              "    .dataframe thead th {\n",
              "        text-align: right;\n",
              "    }\n",
              "</style>\n",
              "<table border=\"1\" class=\"dataframe\">\n",
              "  <thead>\n",
              "    <tr style=\"text-align: right;\">\n",
              "      <th></th>\n",
              "      <th>Date</th>\n",
              "      <th>Open</th>\n",
              "      <th>High</th>\n",
              "      <th>Low</th>\n",
              "      <th>Close</th>\n",
              "      <th>Volume</th>\n",
              "    </tr>\n",
              "  </thead>\n",
              "  <tbody>\n",
              "    <tr>\n",
              "      <th>5008</th>\n",
              "      <td>4/20/2020</td>\n",
              "      <td>17.73</td>\n",
              "      <td>17.85</td>\n",
              "      <td>-40.32</td>\n",
              "      <td>-37.630001</td>\n",
              "      <td>247947.0</td>\n",
              "    </tr>\n",
              "  </tbody>\n",
              "</table>\n",
              "</div>"
            ],
            "text/plain": [
              "           Date   Open   High    Low      Close    Volume\n",
              "5008  4/20/2020  17.73  17.85 -40.32 -37.630001  247947.0"
            ]
          },
          "metadata": {},
          "execution_count": 17
        }
      ]
    },
    {
      "cell_type": "code",
      "metadata": {
        "colab": {
          "base_uri": "https://localhost:8080/",
          "height": 80
        },
        "id": "Buzcg0fLpsxT",
        "outputId": "11c479bc-c466-4e0b-b532-14a5006905bc"
      },
      "source": [
        "df[df['Open']<0]"
      ],
      "execution_count": null,
      "outputs": [
        {
          "output_type": "execute_result",
          "data": {
            "text/html": [
              "<div>\n",
              "<style scoped>\n",
              "    .dataframe tbody tr th:only-of-type {\n",
              "        vertical-align: middle;\n",
              "    }\n",
              "\n",
              "    .dataframe tbody tr th {\n",
              "        vertical-align: top;\n",
              "    }\n",
              "\n",
              "    .dataframe thead th {\n",
              "        text-align: right;\n",
              "    }\n",
              "</style>\n",
              "<table border=\"1\" class=\"dataframe\">\n",
              "  <thead>\n",
              "    <tr style=\"text-align: right;\">\n",
              "      <th></th>\n",
              "      <th>Date</th>\n",
              "      <th>Open</th>\n",
              "      <th>High</th>\n",
              "      <th>Low</th>\n",
              "      <th>Close</th>\n",
              "      <th>Volume</th>\n",
              "    </tr>\n",
              "  </thead>\n",
              "  <tbody>\n",
              "    <tr>\n",
              "      <th>5009</th>\n",
              "      <td>4/21/2020</td>\n",
              "      <td>-14.0</td>\n",
              "      <td>13.86</td>\n",
              "      <td>-16.74</td>\n",
              "      <td>10.01</td>\n",
              "      <td>2288230.0</td>\n",
              "    </tr>\n",
              "  </tbody>\n",
              "</table>\n",
              "</div>"
            ],
            "text/plain": [
              "           Date  Open   High    Low  Close     Volume\n",
              "5009  4/21/2020 -14.0  13.86 -16.74  10.01  2288230.0"
            ]
          },
          "metadata": {},
          "execution_count": 18
        }
      ]
    },
    {
      "cell_type": "code",
      "metadata": {
        "colab": {
          "base_uri": "https://localhost:8080/",
          "height": 49
        },
        "id": "UH5QKHj8pxcT",
        "outputId": "56cf68ac-dd82-487b-ac10-921452064aa5"
      },
      "source": [
        "df[df['High']<0]"
      ],
      "execution_count": null,
      "outputs": [
        {
          "output_type": "execute_result",
          "data": {
            "text/html": [
              "<div>\n",
              "<style scoped>\n",
              "    .dataframe tbody tr th:only-of-type {\n",
              "        vertical-align: middle;\n",
              "    }\n",
              "\n",
              "    .dataframe tbody tr th {\n",
              "        vertical-align: top;\n",
              "    }\n",
              "\n",
              "    .dataframe thead th {\n",
              "        text-align: right;\n",
              "    }\n",
              "</style>\n",
              "<table border=\"1\" class=\"dataframe\">\n",
              "  <thead>\n",
              "    <tr style=\"text-align: right;\">\n",
              "      <th></th>\n",
              "      <th>Date</th>\n",
              "      <th>Open</th>\n",
              "      <th>High</th>\n",
              "      <th>Low</th>\n",
              "      <th>Close</th>\n",
              "      <th>Volume</th>\n",
              "    </tr>\n",
              "  </thead>\n",
              "  <tbody>\n",
              "  </tbody>\n",
              "</table>\n",
              "</div>"
            ],
            "text/plain": [
              "Empty DataFrame\n",
              "Columns: [Date, Open, High, Low, Close, Volume]\n",
              "Index: []"
            ]
          },
          "metadata": {},
          "execution_count": 19
        }
      ]
    },
    {
      "cell_type": "code",
      "metadata": {
        "colab": {
          "base_uri": "https://localhost:8080/",
          "height": 111
        },
        "id": "ZTw7t9wQp0vL",
        "outputId": "8f0412dd-fc88-45a7-8df4-7aac5e08af9a"
      },
      "source": [
        "df[df['Low']<0]"
      ],
      "execution_count": null,
      "outputs": [
        {
          "output_type": "execute_result",
          "data": {
            "text/html": [
              "<div>\n",
              "<style scoped>\n",
              "    .dataframe tbody tr th:only-of-type {\n",
              "        vertical-align: middle;\n",
              "    }\n",
              "\n",
              "    .dataframe tbody tr th {\n",
              "        vertical-align: top;\n",
              "    }\n",
              "\n",
              "    .dataframe thead th {\n",
              "        text-align: right;\n",
              "    }\n",
              "</style>\n",
              "<table border=\"1\" class=\"dataframe\">\n",
              "  <thead>\n",
              "    <tr style=\"text-align: right;\">\n",
              "      <th></th>\n",
              "      <th>Date</th>\n",
              "      <th>Open</th>\n",
              "      <th>High</th>\n",
              "      <th>Low</th>\n",
              "      <th>Close</th>\n",
              "      <th>Volume</th>\n",
              "    </tr>\n",
              "  </thead>\n",
              "  <tbody>\n",
              "    <tr>\n",
              "      <th>5008</th>\n",
              "      <td>4/20/2020</td>\n",
              "      <td>17.73</td>\n",
              "      <td>17.85</td>\n",
              "      <td>-40.32</td>\n",
              "      <td>-37.630001</td>\n",
              "      <td>247947.0</td>\n",
              "    </tr>\n",
              "    <tr>\n",
              "      <th>5009</th>\n",
              "      <td>4/21/2020</td>\n",
              "      <td>-14.00</td>\n",
              "      <td>13.86</td>\n",
              "      <td>-16.74</td>\n",
              "      <td>10.010000</td>\n",
              "      <td>2288230.0</td>\n",
              "    </tr>\n",
              "  </tbody>\n",
              "</table>\n",
              "</div>"
            ],
            "text/plain": [
              "           Date   Open   High    Low      Close     Volume\n",
              "5008  4/20/2020  17.73  17.85 -40.32 -37.630001   247947.0\n",
              "5009  4/21/2020 -14.00  13.86 -16.74  10.010000  2288230.0"
            ]
          },
          "metadata": {},
          "execution_count": 20
        }
      ]
    },
    {
      "cell_type": "code",
      "metadata": {
        "id": "UJKtxnOnrSaU"
      },
      "source": [
        "df1=df.replace(-37.630001,5)"
      ],
      "execution_count": null,
      "outputs": []
    },
    {
      "cell_type": "code",
      "metadata": {
        "colab": {
          "base_uri": "https://localhost:8080/",
          "height": 111
        },
        "id": "6Zk6eCTHr4Mr",
        "outputId": "441302ae-0945-4cec-8859-5a014d3c87bf"
      },
      "source": [
        "df1[df1['Low']<0]"
      ],
      "execution_count": null,
      "outputs": [
        {
          "output_type": "execute_result",
          "data": {
            "text/html": [
              "<div>\n",
              "<style scoped>\n",
              "    .dataframe tbody tr th:only-of-type {\n",
              "        vertical-align: middle;\n",
              "    }\n",
              "\n",
              "    .dataframe tbody tr th {\n",
              "        vertical-align: top;\n",
              "    }\n",
              "\n",
              "    .dataframe thead th {\n",
              "        text-align: right;\n",
              "    }\n",
              "</style>\n",
              "<table border=\"1\" class=\"dataframe\">\n",
              "  <thead>\n",
              "    <tr style=\"text-align: right;\">\n",
              "      <th></th>\n",
              "      <th>Date</th>\n",
              "      <th>Open</th>\n",
              "      <th>High</th>\n",
              "      <th>Low</th>\n",
              "      <th>Close</th>\n",
              "      <th>Volume</th>\n",
              "    </tr>\n",
              "  </thead>\n",
              "  <tbody>\n",
              "    <tr>\n",
              "      <th>5008</th>\n",
              "      <td>4/20/2020</td>\n",
              "      <td>17.73</td>\n",
              "      <td>17.85</td>\n",
              "      <td>-40.32</td>\n",
              "      <td>5.00</td>\n",
              "      <td>247947.0</td>\n",
              "    </tr>\n",
              "    <tr>\n",
              "      <th>5009</th>\n",
              "      <td>4/21/2020</td>\n",
              "      <td>-14.00</td>\n",
              "      <td>13.86</td>\n",
              "      <td>-16.74</td>\n",
              "      <td>10.01</td>\n",
              "      <td>2288230.0</td>\n",
              "    </tr>\n",
              "  </tbody>\n",
              "</table>\n",
              "</div>"
            ],
            "text/plain": [
              "           Date   Open   High    Low  Close     Volume\n",
              "5008  4/20/2020  17.73  17.85 -40.32   5.00   247947.0\n",
              "5009  4/21/2020 -14.00  13.86 -16.74  10.01  2288230.0"
            ]
          },
          "metadata": {},
          "execution_count": 22
        }
      ]
    },
    {
      "cell_type": "code",
      "metadata": {
        "id": "mwMggx5zwHi0"
      },
      "source": [
        "data=pd.read_csv('Crude_All.csv',parse_dates=[0])"
      ],
      "execution_count": null,
      "outputs": []
    },
    {
      "cell_type": "code",
      "metadata": {
        "id": "S75nAFwbwPNE"
      },
      "source": [
        "data= data.dropna(how='any')"
      ],
      "execution_count": null,
      "outputs": []
    },
    {
      "cell_type": "code",
      "metadata": {
        "id": "8ij54G5gwY8r"
      },
      "source": [
        "df2=data.replace(-37.630001,5)"
      ],
      "execution_count": null,
      "outputs": []
    },
    {
      "cell_type": "markdown",
      "metadata": {
        "id": "XAtCr-ipu9GF"
      },
      "source": [
        "**Resampling**"
      ]
    },
    {
      "cell_type": "code",
      "metadata": {
        "colab": {
          "base_uri": "https://localhost:8080/",
          "height": 204
        },
        "id": "olWloASVwuoK",
        "outputId": "9a86547c-7e6b-4b94-ea3e-2817420ac87c"
      },
      "source": [
        "df2.head()"
      ],
      "execution_count": null,
      "outputs": [
        {
          "output_type": "execute_result",
          "data": {
            "text/html": [
              "<div>\n",
              "<style scoped>\n",
              "    .dataframe tbody tr th:only-of-type {\n",
              "        vertical-align: middle;\n",
              "    }\n",
              "\n",
              "    .dataframe tbody tr th {\n",
              "        vertical-align: top;\n",
              "    }\n",
              "\n",
              "    .dataframe thead th {\n",
              "        text-align: right;\n",
              "    }\n",
              "</style>\n",
              "<table border=\"1\" class=\"dataframe\">\n",
              "  <thead>\n",
              "    <tr style=\"text-align: right;\">\n",
              "      <th></th>\n",
              "      <th>Date</th>\n",
              "      <th>Open</th>\n",
              "      <th>High</th>\n",
              "      <th>Low</th>\n",
              "      <th>Close</th>\n",
              "      <th>Adj Close</th>\n",
              "      <th>Volume</th>\n",
              "    </tr>\n",
              "  </thead>\n",
              "  <tbody>\n",
              "    <tr>\n",
              "      <th>0</th>\n",
              "      <td>2000-08-23</td>\n",
              "      <td>31.950001</td>\n",
              "      <td>32.799999</td>\n",
              "      <td>31.950001</td>\n",
              "      <td>32.049999</td>\n",
              "      <td>32.049999</td>\n",
              "      <td>79385.0</td>\n",
              "    </tr>\n",
              "    <tr>\n",
              "      <th>1</th>\n",
              "      <td>2000-08-24</td>\n",
              "      <td>31.900000</td>\n",
              "      <td>32.240002</td>\n",
              "      <td>31.400000</td>\n",
              "      <td>31.629999</td>\n",
              "      <td>31.629999</td>\n",
              "      <td>72978.0</td>\n",
              "    </tr>\n",
              "    <tr>\n",
              "      <th>2</th>\n",
              "      <td>2000-08-25</td>\n",
              "      <td>31.700001</td>\n",
              "      <td>32.099998</td>\n",
              "      <td>31.320000</td>\n",
              "      <td>32.049999</td>\n",
              "      <td>32.049999</td>\n",
              "      <td>44601.0</td>\n",
              "    </tr>\n",
              "    <tr>\n",
              "      <th>3</th>\n",
              "      <td>2000-08-28</td>\n",
              "      <td>32.040001</td>\n",
              "      <td>32.919998</td>\n",
              "      <td>31.860001</td>\n",
              "      <td>32.869999</td>\n",
              "      <td>32.869999</td>\n",
              "      <td>46770.0</td>\n",
              "    </tr>\n",
              "    <tr>\n",
              "      <th>4</th>\n",
              "      <td>2000-08-29</td>\n",
              "      <td>32.820000</td>\n",
              "      <td>33.029999</td>\n",
              "      <td>32.560001</td>\n",
              "      <td>32.720001</td>\n",
              "      <td>32.720001</td>\n",
              "      <td>49131.0</td>\n",
              "    </tr>\n",
              "  </tbody>\n",
              "</table>\n",
              "</div>"
            ],
            "text/plain": [
              "        Date       Open       High        Low      Close  Adj Close   Volume\n",
              "0 2000-08-23  31.950001  32.799999  31.950001  32.049999  32.049999  79385.0\n",
              "1 2000-08-24  31.900000  32.240002  31.400000  31.629999  31.629999  72978.0\n",
              "2 2000-08-25  31.700001  32.099998  31.320000  32.049999  32.049999  44601.0\n",
              "3 2000-08-28  32.040001  32.919998  31.860001  32.869999  32.869999  46770.0\n",
              "4 2000-08-29  32.820000  33.029999  32.560001  32.720001  32.720001  49131.0"
            ]
          },
          "metadata": {},
          "execution_count": 26
        }
      ]
    },
    {
      "cell_type": "code",
      "metadata": {
        "colab": {
          "base_uri": "https://localhost:8080/"
        },
        "id": "1EQg53xxvEj3",
        "outputId": "944d7caa-ca6c-4f26-9065-acb6adbd766c"
      },
      "source": [
        "df2.columns"
      ],
      "execution_count": null,
      "outputs": [
        {
          "output_type": "execute_result",
          "data": {
            "text/plain": [
              "Index(['Date', 'Open', 'High', 'Low', 'Close', 'Adj Close', 'Volume'], dtype='object')"
            ]
          },
          "metadata": {},
          "execution_count": 27
        }
      ]
    },
    {
      "cell_type": "code",
      "metadata": {
        "id": "8oTKJMEFvAIH"
      },
      "source": [
        "monthly_mean_df=df2.resample('M',on='Date').mean()"
      ],
      "execution_count": null,
      "outputs": []
    },
    {
      "cell_type": "code",
      "metadata": {
        "colab": {
          "base_uri": "https://localhost:8080/",
          "height": 235
        },
        "id": "8hNJxtEJwl9M",
        "outputId": "494b2f5a-36a4-4d42-a267-8d26450667c6"
      },
      "source": [
        "monthly_mean_df.head()"
      ],
      "execution_count": null,
      "outputs": [
        {
          "output_type": "execute_result",
          "data": {
            "text/html": [
              "<div>\n",
              "<style scoped>\n",
              "    .dataframe tbody tr th:only-of-type {\n",
              "        vertical-align: middle;\n",
              "    }\n",
              "\n",
              "    .dataframe tbody tr th {\n",
              "        vertical-align: top;\n",
              "    }\n",
              "\n",
              "    .dataframe thead th {\n",
              "        text-align: right;\n",
              "    }\n",
              "</style>\n",
              "<table border=\"1\" class=\"dataframe\">\n",
              "  <thead>\n",
              "    <tr style=\"text-align: right;\">\n",
              "      <th></th>\n",
              "      <th>Open</th>\n",
              "      <th>High</th>\n",
              "      <th>Low</th>\n",
              "      <th>Close</th>\n",
              "      <th>Adj Close</th>\n",
              "      <th>Volume</th>\n",
              "    </tr>\n",
              "    <tr>\n",
              "      <th>Date</th>\n",
              "      <th></th>\n",
              "      <th></th>\n",
              "      <th></th>\n",
              "      <th></th>\n",
              "      <th></th>\n",
              "      <th></th>\n",
              "    </tr>\n",
              "  </thead>\n",
              "  <tbody>\n",
              "    <tr>\n",
              "      <th>2000-08-31</th>\n",
              "      <td>32.344286</td>\n",
              "      <td>32.884286</td>\n",
              "      <td>32.022857</td>\n",
              "      <td>32.545714</td>\n",
              "      <td>32.545714</td>\n",
              "      <td>61282.000000</td>\n",
              "    </tr>\n",
              "    <tr>\n",
              "      <th>2000-09-30</th>\n",
              "      <td>33.881000</td>\n",
              "      <td>34.549000</td>\n",
              "      <td>33.283500</td>\n",
              "      <td>33.871000</td>\n",
              "      <td>33.871000</td>\n",
              "      <td>82094.400000</td>\n",
              "    </tr>\n",
              "    <tr>\n",
              "      <th>2000-10-31</th>\n",
              "      <td>32.992727</td>\n",
              "      <td>33.470454</td>\n",
              "      <td>32.455909</td>\n",
              "      <td>32.973182</td>\n",
              "      <td>32.973182</td>\n",
              "      <td>63179.136364</td>\n",
              "    </tr>\n",
              "    <tr>\n",
              "      <th>2000-11-30</th>\n",
              "      <td>34.172501</td>\n",
              "      <td>34.653000</td>\n",
              "      <td>33.786500</td>\n",
              "      <td>34.264500</td>\n",
              "      <td>34.264500</td>\n",
              "      <td>62956.600000</td>\n",
              "    </tr>\n",
              "    <tr>\n",
              "      <th>2000-12-31</th>\n",
              "      <td>28.797000</td>\n",
              "      <td>29.183000</td>\n",
              "      <td>27.897000</td>\n",
              "      <td>28.355000</td>\n",
              "      <td>28.355000</td>\n",
              "      <td>62224.650000</td>\n",
              "    </tr>\n",
              "  </tbody>\n",
              "</table>\n",
              "</div>"
            ],
            "text/plain": [
              "                 Open       High        Low      Close  Adj Close        Volume\n",
              "Date                                                                           \n",
              "2000-08-31  32.344286  32.884286  32.022857  32.545714  32.545714  61282.000000\n",
              "2000-09-30  33.881000  34.549000  33.283500  33.871000  33.871000  82094.400000\n",
              "2000-10-31  32.992727  33.470454  32.455909  32.973182  32.973182  63179.136364\n",
              "2000-11-30  34.172501  34.653000  33.786500  34.264500  34.264500  62956.600000\n",
              "2000-12-31  28.797000  29.183000  27.897000  28.355000  28.355000  62224.650000"
            ]
          },
          "metadata": {},
          "execution_count": 29
        }
      ]
    },
    {
      "cell_type": "markdown",
      "metadata": {
        "id": "FiGL3eHLw0jV"
      },
      "source": [
        "**Feature engineering**"
      ]
    },
    {
      "cell_type": "code",
      "metadata": {
        "id": "kDAtER81wzdX"
      },
      "source": [
        "features= df2"
      ],
      "execution_count": null,
      "outputs": []
    },
    {
      "cell_type": "code",
      "metadata": {
        "id": "wVYU9ufuw9QN"
      },
      "source": [
        "features['month']=df2['Date'].dt.month"
      ],
      "execution_count": null,
      "outputs": []
    },
    {
      "cell_type": "code",
      "metadata": {
        "colab": {
          "base_uri": "https://localhost:8080/",
          "height": 358
        },
        "id": "0qTZRGBbxLT_",
        "outputId": "e44e94cb-0a1f-4970-99f9-00f6ec94372f"
      },
      "source": [
        "features.head(10)"
      ],
      "execution_count": null,
      "outputs": [
        {
          "output_type": "execute_result",
          "data": {
            "text/html": [
              "<div>\n",
              "<style scoped>\n",
              "    .dataframe tbody tr th:only-of-type {\n",
              "        vertical-align: middle;\n",
              "    }\n",
              "\n",
              "    .dataframe tbody tr th {\n",
              "        vertical-align: top;\n",
              "    }\n",
              "\n",
              "    .dataframe thead th {\n",
              "        text-align: right;\n",
              "    }\n",
              "</style>\n",
              "<table border=\"1\" class=\"dataframe\">\n",
              "  <thead>\n",
              "    <tr style=\"text-align: right;\">\n",
              "      <th></th>\n",
              "      <th>Date</th>\n",
              "      <th>Open</th>\n",
              "      <th>High</th>\n",
              "      <th>Low</th>\n",
              "      <th>Close</th>\n",
              "      <th>Adj Close</th>\n",
              "      <th>Volume</th>\n",
              "      <th>month</th>\n",
              "    </tr>\n",
              "  </thead>\n",
              "  <tbody>\n",
              "    <tr>\n",
              "      <th>0</th>\n",
              "      <td>2000-08-23</td>\n",
              "      <td>31.950001</td>\n",
              "      <td>32.799999</td>\n",
              "      <td>31.950001</td>\n",
              "      <td>32.049999</td>\n",
              "      <td>32.049999</td>\n",
              "      <td>79385.0</td>\n",
              "      <td>8</td>\n",
              "    </tr>\n",
              "    <tr>\n",
              "      <th>1</th>\n",
              "      <td>2000-08-24</td>\n",
              "      <td>31.900000</td>\n",
              "      <td>32.240002</td>\n",
              "      <td>31.400000</td>\n",
              "      <td>31.629999</td>\n",
              "      <td>31.629999</td>\n",
              "      <td>72978.0</td>\n",
              "      <td>8</td>\n",
              "    </tr>\n",
              "    <tr>\n",
              "      <th>2</th>\n",
              "      <td>2000-08-25</td>\n",
              "      <td>31.700001</td>\n",
              "      <td>32.099998</td>\n",
              "      <td>31.320000</td>\n",
              "      <td>32.049999</td>\n",
              "      <td>32.049999</td>\n",
              "      <td>44601.0</td>\n",
              "      <td>8</td>\n",
              "    </tr>\n",
              "    <tr>\n",
              "      <th>3</th>\n",
              "      <td>2000-08-28</td>\n",
              "      <td>32.040001</td>\n",
              "      <td>32.919998</td>\n",
              "      <td>31.860001</td>\n",
              "      <td>32.869999</td>\n",
              "      <td>32.869999</td>\n",
              "      <td>46770.0</td>\n",
              "      <td>8</td>\n",
              "    </tr>\n",
              "    <tr>\n",
              "      <th>4</th>\n",
              "      <td>2000-08-29</td>\n",
              "      <td>32.820000</td>\n",
              "      <td>33.029999</td>\n",
              "      <td>32.560001</td>\n",
              "      <td>32.720001</td>\n",
              "      <td>32.720001</td>\n",
              "      <td>49131.0</td>\n",
              "      <td>8</td>\n",
              "    </tr>\n",
              "    <tr>\n",
              "      <th>5</th>\n",
              "      <td>2000-08-30</td>\n",
              "      <td>32.750000</td>\n",
              "      <td>33.400002</td>\n",
              "      <td>32.099998</td>\n",
              "      <td>33.400002</td>\n",
              "      <td>33.400002</td>\n",
              "      <td>79214.0</td>\n",
              "      <td>8</td>\n",
              "    </tr>\n",
              "    <tr>\n",
              "      <th>6</th>\n",
              "      <td>2000-08-31</td>\n",
              "      <td>33.250000</td>\n",
              "      <td>33.700001</td>\n",
              "      <td>32.970001</td>\n",
              "      <td>33.099998</td>\n",
              "      <td>33.099998</td>\n",
              "      <td>56895.0</td>\n",
              "      <td>8</td>\n",
              "    </tr>\n",
              "    <tr>\n",
              "      <th>7</th>\n",
              "      <td>2000-09-01</td>\n",
              "      <td>33.049999</td>\n",
              "      <td>33.450001</td>\n",
              "      <td>32.750000</td>\n",
              "      <td>33.380001</td>\n",
              "      <td>33.380001</td>\n",
              "      <td>45869.0</td>\n",
              "      <td>9</td>\n",
              "    </tr>\n",
              "    <tr>\n",
              "      <th>9</th>\n",
              "      <td>2000-09-05</td>\n",
              "      <td>33.950001</td>\n",
              "      <td>33.990002</td>\n",
              "      <td>33.419998</td>\n",
              "      <td>33.799999</td>\n",
              "      <td>33.799999</td>\n",
              "      <td>55722.0</td>\n",
              "      <td>9</td>\n",
              "    </tr>\n",
              "    <tr>\n",
              "      <th>10</th>\n",
              "      <td>2000-09-06</td>\n",
              "      <td>33.990002</td>\n",
              "      <td>34.950001</td>\n",
              "      <td>33.830002</td>\n",
              "      <td>34.950001</td>\n",
              "      <td>34.950001</td>\n",
              "      <td>74692.0</td>\n",
              "      <td>9</td>\n",
              "    </tr>\n",
              "  </tbody>\n",
              "</table>\n",
              "</div>"
            ],
            "text/plain": [
              "         Date       Open       High  ...  Adj Close   Volume  month\n",
              "0  2000-08-23  31.950001  32.799999  ...  32.049999  79385.0      8\n",
              "1  2000-08-24  31.900000  32.240002  ...  31.629999  72978.0      8\n",
              "2  2000-08-25  31.700001  32.099998  ...  32.049999  44601.0      8\n",
              "3  2000-08-28  32.040001  32.919998  ...  32.869999  46770.0      8\n",
              "4  2000-08-29  32.820000  33.029999  ...  32.720001  49131.0      8\n",
              "5  2000-08-30  32.750000  33.400002  ...  33.400002  79214.0      8\n",
              "6  2000-08-31  33.250000  33.700001  ...  33.099998  56895.0      8\n",
              "7  2000-09-01  33.049999  33.450001  ...  33.380001  45869.0      9\n",
              "9  2000-09-05  33.950001  33.990002  ...  33.799999  55722.0      9\n",
              "10 2000-09-06  33.990002  34.950001  ...  34.950001  74692.0      9\n",
              "\n",
              "[10 rows x 8 columns]"
            ]
          },
          "metadata": {},
          "execution_count": 32
        }
      ]
    },
    {
      "cell_type": "markdown",
      "metadata": {
        "id": "DTMG1WwKx499"
      },
      "source": [
        "**Linear regression**"
      ]
    },
    {
      "cell_type": "code",
      "metadata": {
        "colab": {
          "base_uri": "https://localhost:8080/"
        },
        "id": "dNg8tpcDx4qF",
        "outputId": "c63618fa-825b-402c-c64a-d60b8ac1770b"
      },
      "source": [
        "#a variable for predicting 'n' month into future\n",
        "forecas_out=3\n",
        "#create another column for target variable\n",
        "monthly_mean_df['Prediction'] = monthly_mean_df[['Close']].shift(-forecas_out)\n",
        "print(monthly_mean_df.tail())"
      ],
      "execution_count": null,
      "outputs": [
        {
          "output_type": "stream",
          "name": "stdout",
          "text": [
            "                 Open       High  ...         Volume  Prediction\n",
            "Date                              ...                           \n",
            "2021-03-31  62.406522  63.673913  ...  442084.826087   71.352729\n",
            "2021-04-30  61.483809  62.458095  ...  372985.952381   73.910001\n",
            "2021-05-31  65.086500  65.925000  ...  400054.750000         NaN\n",
            "2021-06-30  71.032273  71.995000  ...  375542.954545         NaN\n",
            "2021-07-31  73.858332  75.283335  ...  562434.000000         NaN\n",
            "\n",
            "[5 rows x 7 columns]\n"
          ]
        }
      ]
    },
    {
      "cell_type": "code",
      "metadata": {
        "id": "F528Mx_iycsD"
      },
      "source": [
        "#create independent dataset(X)\n",
        "X=np.array(monthly_mean_df.drop(['Prediction'],1))\n",
        "X=X[:-forecas_out]"
      ],
      "execution_count": null,
      "outputs": []
    },
    {
      "cell_type": "code",
      "metadata": {
        "id": "ti17tGObygB7"
      },
      "source": [
        "#create dependent dataset(Y)\n",
        "y=np.array(monthly_mean_df['Prediction'])\n",
        "y=y[:-forecas_out]\n"
      ],
      "execution_count": null,
      "outputs": []
    },
    {
      "cell_type": "code",
      "metadata": {
        "id": "J68o97g1yrIs"
      },
      "source": [
        "#split tha dataset \n",
        "x_train,x_test,y_train,y_test = train_test_split(X,y,test_size=0.2)"
      ],
      "execution_count": null,
      "outputs": []
    },
    {
      "cell_type": "code",
      "metadata": {
        "colab": {
          "base_uri": "https://localhost:8080/"
        },
        "id": "cyNFUJACy7DP",
        "outputId": "5cf9d073-5c5d-44f1-a146-4370d39bd020"
      },
      "source": [
        "#apply linear regression\n",
        "lr = LinearRegression()\n",
        "lr.fit(x_train,y_train)"
      ],
      "execution_count": null,
      "outputs": [
        {
          "output_type": "execute_result",
          "data": {
            "text/plain": [
              "LinearRegression(copy_X=True, fit_intercept=True, n_jobs=None, normalize=False)"
            ]
          },
          "metadata": {},
          "execution_count": 37
        }
      ]
    },
    {
      "cell_type": "code",
      "metadata": {
        "colab": {
          "base_uri": "https://localhost:8080/"
        },
        "id": "ORRmucnNy8hf",
        "outputId": "1f745633-a1b3-4311-8a2e-7105b8b39f90"
      },
      "source": [
        "#check the score\n",
        "lr_confidence = lr.score(x_test,y_test)\n",
        "print(\"lr confidence\",lr_confidence)"
      ],
      "execution_count": null,
      "outputs": [
        {
          "output_type": "stream",
          "name": "stdout",
          "text": [
            "lr confidence 0.6849232488168062\n"
          ]
        }
      ]
    },
    {
      "cell_type": "code",
      "metadata": {
        "id": "TdJk25PKzAaR"
      },
      "source": [
        "filename = 'finalized_model.pickle'  #creating a pickle model\n",
        "pickle.dump(lr, open(filename, 'wb'))"
      ],
      "execution_count": null,
      "outputs": []
    },
    {
      "cell_type": "code",
      "metadata": {
        "id": "cc7LLAejzEw0"
      },
      "source": [
        "loaded_model = pickle.load(open(filename, 'rb'))"
      ],
      "execution_count": null,
      "outputs": []
    },
    {
      "cell_type": "code",
      "metadata": {
        "id": "MagClfAZzHnn"
      },
      "source": [
        "#predicting using the loaded model\n",
        "y_pred=loaded_model.predict(x_test)\n",
        "x_pred=loaded_model.predict(x_train)"
      ],
      "execution_count": null,
      "outputs": []
    },
    {
      "cell_type": "code",
      "metadata": {
        "colab": {
          "base_uri": "https://localhost:8080/"
        },
        "id": "e6oWEJAjzLEM",
        "outputId": "f7bee442-7c0e-4a78-aa62-8859ede22ee5"
      },
      "source": [
        "x_pred"
      ],
      "execution_count": null,
      "outputs": [
        {
          "output_type": "execute_result",
          "data": {
            "text/plain": [
              "array([ 26.13927959,  88.77300015,  36.10368327,  42.77925897,\n",
              "        94.2514038 ,  52.65449779,  98.04541604,  40.78949257,\n",
              "        39.9278237 ,  51.87164056,  66.16419994,  70.53640109,\n",
              "        66.75649285,  42.50608569,  97.4334203 ,  34.56654331,\n",
              "        79.41026481,  71.58667393,  89.90688757, 102.36996724,\n",
              "        47.21643703,  47.80939275,  64.49585459,  43.07311683,\n",
              "        68.35728487,  38.87333586,  40.28234843,  54.52176286,\n",
              "       118.02973069,  45.69199128,  49.85241343,  75.47466497,\n",
              "        68.71666772,  72.33967792,  71.0319394 ,  35.40802611,\n",
              "        86.31590261,  41.34783768,  84.1740064 , 103.48595008,\n",
              "        53.06889763,  32.47501809,  43.60037348,  93.1047449 ,\n",
              "        91.94950729,  33.78472529,  47.79377625,  70.76769067,\n",
              "        52.15726056,  48.10262247,  51.86181196,  98.57892717,\n",
              "        42.06007341,  94.9363875 ,  81.90002854,  94.58663129,\n",
              "        68.28175714,  43.15087991,  76.92404536,  38.47477537,\n",
              "        69.89714756,  96.64318272,  81.35163932,  66.99700377,\n",
              "        96.58939192,  32.00449357,  81.3067975 , 100.2517973 ,\n",
              "        83.48517252,  41.83119553, 105.97434047,  95.97861724,\n",
              "        64.00784772,  88.9690022 ,  30.48997466,  57.27618018,\n",
              "        70.12537795,  62.81288233,  57.69038608,  73.37387893,\n",
              "       103.85986971,  66.4838867 ,  56.91757026, 106.70026257,\n",
              "       102.24045235,  45.08598756,  29.10308928,  52.95273077,\n",
              "        83.24462382,  63.34407495,  59.0163969 ,  75.24437844,\n",
              "        98.24498223,  61.44354853, 125.47552459,  67.23252026,\n",
              "        44.87200693,  56.57137032,  41.41578849,  30.88646575,\n",
              "        47.8757166 ,  91.97669567,  51.58220811,  60.33815609,\n",
              "        72.43997158,  95.94490288,  64.09829367,  65.73809315,\n",
              "        62.78770373,  52.83158845,  38.48498046,  29.96973617,\n",
              "        39.05992612,  75.93702619,  90.17839186,  52.87172081,\n",
              "        49.55986773,  37.07341485,  57.27826329, 114.92213282,\n",
              "        69.78164344,  53.74136526, 101.31649282,  70.5821423 ,\n",
              "        68.97696797,  41.64462626,  63.8517182 ,  57.26848174,\n",
              "        31.44362811,  90.16737645,  96.90598343,  23.70937788,\n",
              "       103.4327635 ,  84.45513142,  70.27367845,  62.86871981,\n",
              "        97.77607537,  36.78350168,  57.52370402,  51.67104831,\n",
              "        86.01839297,  92.6602483 ,  53.07286977,  87.25716952,\n",
              "        24.36516891, 128.12081173,  57.60770088,  58.12235847,\n",
              "        30.71212326,  54.35571612,  69.87434474,  24.98996261,\n",
              "        99.71748988,  87.86444689,  61.01546077,  43.75968818,\n",
              "        83.73848842,  32.69236781,  56.68738565,  50.99324981,\n",
              "        87.20438017,  34.88307594,  55.24558176,  25.33848243,\n",
              "        54.2709203 ,  62.05562429,  83.32791417,  30.81054817,\n",
              "        60.13810619,  46.4542214 ,  88.18719626,  90.69815475,\n",
              "        34.87785156,  36.49428764,  49.03919395,  43.26038121,\n",
              "        61.33116005,  35.59916905,  87.70324419,  97.09671217,\n",
              "        29.777923  ,  97.94387468,  80.34552761,  61.91040281,\n",
              "        63.52546702,  49.52372008,  57.70047388,  74.29416534,\n",
              "        78.40077801,  35.67488828,  42.77267327,  79.98808916,\n",
              "        71.21053362,  46.79291691,  52.04106506,  86.52873369,\n",
              "        35.67196989,  29.3255084 ,  57.71741373])"
            ]
          },
          "metadata": {},
          "execution_count": 42
        }
      ]
    },
    {
      "cell_type": "code",
      "metadata": {
        "colab": {
          "base_uri": "https://localhost:8080/"
        },
        "id": "qKWqjMm-zN-o",
        "outputId": "af0518e6-5c07-4197-9af6-dd6f12fe4619"
      },
      "source": [
        "y_pred"
      ],
      "execution_count": null,
      "outputs": [
        {
          "output_type": "execute_result",
          "data": {
            "text/plain": [
              "array([ 53.14067904,  27.7117692 ,  49.38911587,  51.09926487,\n",
              "        51.77936199,  51.05200793,  89.47177105,  17.95572944,\n",
              "        17.52798453,  36.57028301,  62.44305594,  98.91793938,\n",
              "        51.96152484,  52.66077961,  65.80765726,  92.87388435,\n",
              "        32.68486176,  83.77686681,  49.97371656,  46.11516018,\n",
              "        62.81272572,  60.32485487,  50.41890897,  47.81455712,\n",
              "        78.90529423,  32.35559309,  69.87286185,  29.19160412,\n",
              "        38.98261003,  57.96209688,  33.66000686,  31.45766162,\n",
              "        51.82173018,  39.02214674, 107.96630964,  61.33379936,\n",
              "        50.78221096,  33.51680605,  79.82507396,  59.34798121,\n",
              "        32.38045631,  47.26364244,  53.86363229,  70.32857655,\n",
              "        88.75106656,  67.66568592, 105.50565277,  73.27900546,\n",
              "        48.65703733,  48.0217509 ])"
            ]
          },
          "metadata": {},
          "execution_count": 43
        }
      ]
    },
    {
      "cell_type": "code",
      "metadata": {
        "colab": {
          "base_uri": "https://localhost:8080/"
        },
        "id": "Ifix8uvZzR8y",
        "outputId": "6563dbd4-b9c6-4f0f-8589-fa24192a27ff"
      },
      "source": [
        "print(loaded_model.score(x_test,y_test))"
      ],
      "execution_count": null,
      "outputs": [
        {
          "output_type": "stream",
          "name": "stdout",
          "text": [
            "0.6849232488168062\n"
          ]
        }
      ]
    },
    {
      "cell_type": "code",
      "metadata": {
        "colab": {
          "base_uri": "https://localhost:8080/"
        },
        "id": "JX3cWdWazW3t",
        "outputId": "a02e2f73-6088-42b6-912f-4c3f65e2321c"
      },
      "source": [
        "print(loaded_model.score(x_train,y_train))"
      ],
      "execution_count": null,
      "outputs": [
        {
          "output_type": "stream",
          "name": "stdout",
          "text": [
            "0.8243265804939033\n"
          ]
        }
      ]
    },
    {
      "cell_type": "code",
      "metadata": {
        "colab": {
          "base_uri": "https://localhost:8080/"
        },
        "id": "dW-e7gJ5zYoP",
        "outputId": "16523239-2a6c-4aac-ad41-e8c5dfda9931"
      },
      "source": [
        "print(loaded_model.score(x_test,y_pred))"
      ],
      "execution_count": null,
      "outputs": [
        {
          "output_type": "stream",
          "name": "stdout",
          "text": [
            "1.0\n"
          ]
        }
      ]
    },
    {
      "cell_type": "code",
      "metadata": {
        "colab": {
          "base_uri": "https://localhost:8080/"
        },
        "id": "xonYeZ4szdE2",
        "outputId": "149738bd-52e3-4de0-fec9-a41a93101c4e"
      },
      "source": [
        "print(loaded_model.score(x_train,x_pred))"
      ],
      "execution_count": null,
      "outputs": [
        {
          "output_type": "stream",
          "name": "stdout",
          "text": [
            "1.0\n"
          ]
        }
      ]
    },
    {
      "cell_type": "code",
      "metadata": {
        "colab": {
          "base_uri": "https://localhost:8080/",
          "height": 310
        },
        "id": "uGKxfvf2zjNo",
        "outputId": "8e42dc3a-f9af-4e95-e87c-8f847afb52dd"
      },
      "source": [
        "plt.plot(y_test,label='y_test')\n",
        "plt.plot(y_pred,label='y_pred')\n",
        "plt.title('Predicted vs Actual values curve',fontsize='18')\n",
        "plt.legend()\n",
        "plt.xlabel('Number of test points',fontsize='18')\n",
        "plt.ylabel('High Values',fontsize='15')\n",
        "plt.show()"
      ],
      "execution_count": null,
      "outputs": [
        {
          "output_type": "display_data",
          "data": {
            "image/png": "[encoded data removed]",
            "text/plain": [
              "<Figure size 432x288 with 1 Axes>"
            ]
          },
          "metadata": {
            "needs_background": "light"
          }
        }
      ]
    }
  ]
}